{
  "cells": [
    {
      "cell_type": "markdown",
      "metadata": {
        "id": "view-in-github",
        "colab_type": "text"
      },
      "source": [
        "<a href=\"https://colab.research.google.com/github/it-ces/probability-distribution-exercises-project-with-python/blob/main/notebook/problems.es.ipynb\" target=\"_parent\"><img src=\"https://colab.research.google.com/assets/colab-badge.svg\" alt=\"Open In Colab\"/></a>"
      ]
    },
    {
      "cell_type": "markdown",
      "id": "b967ebc8",
      "metadata": {
        "id": "b967ebc8"
      },
      "source": [
        "# Problemas de distribución de probabilidad"
      ]
    },
    {
      "cell_type": "markdown",
      "id": "c9b71587",
      "metadata": {
        "id": "c9b71587"
      },
      "source": [
        "## Distribución binomial\n",
        "\n",
        "En teoría de la probabilidad y estadística, la distribución binomial es la distribución de probabilidad discreta que da sólo dos resultados posibles en un experimento; por ejemplo, al lanzar una moneda, puede salir cara o cruz."
      ]
    },
    {
      "cell_type": "code",
      "execution_count": null,
      "id": "4eb16d6e",
      "metadata": {
        "id": "4eb16d6e"
      },
      "outputs": [],
      "source": [
        "from scipy.stats import binom\n",
        "\n",
        "# Definir todas las funciones de probabilidad relacionadas con esta distribución.\n",
        "\n",
        "def dbinom(x, size, prob = 0.5):\n",
        "    \"\"\"\n",
        "    Calcula la estimación puntual de la distribución binomial.\n",
        "    \"\"\"\n",
        "    result = binom.pmf(k = x, n = size, p = prob, loc = 0)\n",
        "\n",
        "    return result\n",
        "\n",
        "def pbinom(q, size, prob = 0.5):\n",
        "    \"\"\"\n",
        "    Calcula el acumulado de la distribución binomial.\n",
        "    \"\"\"\n",
        "    result = binom.cdf(k = q, n = size, p = prob, loc = 0)\n",
        "\n",
        "    return result\n",
        "\n",
        "def qbinom(p, size, prob = 0.5):\n",
        "    \"\"\"\n",
        "    Calcula la función cuantil a partir de la distribución binomial.\n",
        "    \"\"\"\n",
        "    result = binom.ppf(q = p, n = size, p = prob, loc = 0)\n",
        "\n",
        "    return result\n",
        "\n",
        "def rbinom(n, size, prob = 0.5):\n",
        "    \"\"\"\n",
        "    Genera variables aleatorias a partir de la distribución binomial.\n",
        "    \"\"\"\n",
        "    result = binom.rvs(n = size, p = prob, size = n)\n",
        "\n",
        "    return result"
      ]
    },
    {
      "cell_type": "code",
      "execution_count": null,
      "id": "6cf6313a",
      "metadata": {
        "colab": {
          "base_uri": "https://localhost:8080/"
        },
        "id": "6cf6313a",
        "outputId": "9adcb6b0-362f-4ec7-bd63-fce526c9c325"
      },
      "outputs": [
        {
          "output_type": "stream",
          "name": "stdout",
          "text": [
            "Probability that a Binomial(10, 0.2) takes the value 2: 0.30198988800000004\n",
            "Probability that a Binomial(10, 0.2) will take a value less than 2: 0.6777995263999999\n",
            "Which value of a Binomial(10, 0.2) has a cumulative probability of 0.9? 4.0\n",
            "Generate 2000 random values from a Binomial(10, 0.2) distribution: [1 4 3 ... 0 0 1]\n"
          ]
        }
      ],
      "source": [
        "# Distribución binomial(10, 0.2), dónde n = 10 es el número de ensayos y p = 0.2 es la probabilidad de éxito en un solo ensayo\n",
        "import numpy as np\n",
        "\n",
        "np.random.seed(42)\n",
        "\n",
        "print(f\"Probability that a Binomial(10, 0.2) takes the value 2: {dbinom(2, size = 10, prob = 0.2)}\")\n",
        "print(f\"Probability that a Binomial(10, 0.2) will take a value less than 2: {pbinom(2, size = 10, prob = 0.2)}\")\n",
        "print(f\"Which value of a Binomial(10, 0.2) has a cumulative probability of 0.9? {qbinom(0.9, size = 10, prob = 0.2)}\")\n",
        "print(f\"Generate 2000 random values from a Binomial(10, 0.2) distribution: {rbinom(2000, size = 10, prob = 0.2)}\")"
      ]
    },
    {
      "cell_type": "code",
      "execution_count": null,
      "id": "69fd07da",
      "metadata": {
        "colab": {
          "base_uri": "https://localhost:8080/",
          "height": 707
        },
        "id": "69fd07da",
        "outputId": "123a0d7e-49df-4767-dd78-8e3e87990603"
      },
      "outputs": [
        {
          "output_type": "display_data",
          "data": {
            "text/plain": [
              "<Figure size 500x700 with 3 Axes>"
            ],
            "image/png": "[encoded data removed]"
          },
          "metadata": {}
        }
      ],
      "source": [
        "import matplotlib.pyplot as plt\n",
        "\n",
        "np.random.seed(42)\n",
        "\n",
        "size = 10\n",
        "prob = 0.2\n",
        "data = rbinom(2000, size = 10, prob = 0.2)\n",
        "\n",
        "pmf = dbinom(data, size = size, prob = prob)\n",
        "cdf = pbinom(data, size = size, prob = prob)\n",
        "ppf = qbinom(data, size = size, prob = prob)\n",
        "\n",
        "fig, axis = plt.subplots(3, 1, figsize = (5, 7))\n",
        "\n",
        "axis[0].stem(data, pmf, \"r-\")\n",
        "axis[1].stem(data, cdf, \"b-\")\n",
        "axis[2].stem(data, ppf, \"g-\")\n",
        "\n",
        "# Adjust the layout\n",
        "plt.tight_layout()\n",
        "\n",
        "# Show the plot\n",
        "plt.show()"
      ]
    },
    {
      "cell_type": "markdown",
      "id": "8aa7eaa0",
      "metadata": {
        "id": "8aa7eaa0"
      },
      "source": [
        "## Ejercicio 1\n",
        "\n",
        "Escriba las funciones anteriores pero para distribuciones normales y uniformes."
      ]
    },
    {
      "cell_type": "code",
      "execution_count": null,
      "id": "98d5f012",
      "metadata": {
        "id": "98d5f012"
      },
      "outputs": [],
      "source": [
        "# TODO\n",
        "# hola muchachos estamos trabajando desde donde mpas le gusta a iván porque es mas rapido mas asen ci a\n",
        "# y colab es mas simple y corre rraído"
      ]
    },
    {
      "cell_type": "code",
      "source": [
        "import numpy as np\n",
        "import matplotlib.pyplot as plt"
      ],
      "metadata": {
        "id": "XPwkzpQHwAfa"
      },
      "id": "XPwkzpQHwAfa",
      "execution_count": null,
      "outputs": []
    },
    {
      "cell_type": "code",
      "source": [
        "plt.hist(np.random.normal(0,1,100))"
      ],
      "metadata": {
        "colab": {
          "base_uri": "https://localhost:8080/",
          "height": 517
        },
        "id": "TjCJCFpJwBne",
        "outputId": "b6319e91-0e33-4b5d-a934-05a4655e166f"
      },
      "id": "TjCJCFpJwBne",
      "execution_count": null,
      "outputs": [
        {
          "output_type": "execute_result",
          "data": {
            "text/plain": [
              "(array([ 3.,  0.,  6., 23., 25., 19., 15.,  5.,  2.,  2.]),\n",
              " array([-2.92135048, -2.30990468, -1.69845887, -1.08701307, -0.47556726,\n",
              "         0.13587854,  0.74732435,  1.35877015,  1.97021596,  2.58166176,\n",
              "         3.19310757]),\n",
              " <BarContainer object of 10 artists>)"
            ]
          },
          "metadata": {},
          "execution_count": 10
        },
        {
          "output_type": "display_data",
          "data": {
            "text/plain": [
              "<Figure size 640x480 with 1 Axes>"
            ],
            "image/png": "[encoded data removed]"
          },
          "metadata": {}
        }
      ]
    },
    {
      "cell_type": "code",
      "source": [
        "for j in range(10):\n",
        "  print(j, j**2)"
      ],
      "metadata": {
        "id": "Wjma6re3xSzO",
        "outputId": "ddb9a4f6-a300-4821-e7f7-d12d47218901",
        "colab": {
          "base_uri": "https://localhost:8080/"
        }
      },
      "id": "Wjma6re3xSzO",
      "execution_count": null,
      "outputs": [
        {
          "output_type": "stream",
          "name": "stdout",
          "text": [
            "0 0\n",
            "1 1\n",
            "2 4\n",
            "3 9\n",
            "4 16\n",
            "5 25\n",
            "6 36\n",
            "7 49\n",
            "8 64\n",
            "9 81\n"
          ]
        }
      ]
    },
    {
      "cell_type": "code",
      "source": [
        "print(\"HOLA MUNDO\"*4)"
      ],
      "metadata": {
        "id": "VPQDZ-d0yo84",
        "outputId": "258fd816-6475-4af8-de4f-d96690a4d07c",
        "colab": {
          "base_uri": "https://localhost:8080/"
        }
      },
      "id": "VPQDZ-d0yo84",
      "execution_count": 13,
      "outputs": [
        {
          "output_type": "stream",
          "name": "stdout",
          "text": [
            "HOLA MUNDOHOLA MUNDOHOLA MUNDOHOLA MUNDO\n"
          ]
        }
      ]
    }
  ],
  "metadata": {
    "interpreter": {
      "hash": "0f2f6c680cf484319d387fabac80ca4ff4fc33965036e02100b3fe02600f1423"
    },
    "kernelspec": {
      "display_name": "Python 3.10.1 64-bit",
      "language": "python",
      "name": "python3"
    },
    "language_info": {
      "codemirror_mode": {
        "name": "ipython",
        "version": 3
      },
      "file_extension": ".py",
      "mimetype": "text/x-python",
      "name": "python",
      "nbconvert_exporter": "python",
      "pygments_lexer": "ipython3",
      "version": "3.12.1"
    },
    "colab": {
      "provenance": [],
      "include_colab_link": true
    }
  },
  "nbformat": 4,
  "nbformat_minor": 5
}